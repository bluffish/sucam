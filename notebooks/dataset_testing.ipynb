{
 "cells": [
  {
   "cell_type": "code",
   "execution_count": 21,
   "id": "254fa739-0437-4647-8265-b4faed6586db",
   "metadata": {},
   "outputs": [
    {
     "name": "stdout",
     "output_type": "stream",
     "text": [
      "The autoreload extension is already loaded. To reload it, use:\n",
      "  %reload_ext autoreload\n"
     ]
    }
   ],
   "source": [
    "%load_ext autoreload\n",
    "%autoreload 2"
   ]
  },
  {
   "cell_type": "code",
   "execution_count": 22,
   "id": "09b2d6bd-7aa2-4ffe-8686-e46c8fb4ba10",
   "metadata": {},
   "outputs": [],
   "source": [
    "import os\n",
    "os.environ[\"CUDA_DEVICE_ORDER\"] = \"PCI_BUS_ID\"\n",
    "\n",
    "import sys\n",
    "module_path = os.path.abspath(os.path.join('..'))\n",
    "if module_path not in sys.path:\n",
    "    sys.path.append(module_path)"
   ]
  },
  {
   "cell_type": "code",
   "execution_count": 23,
   "id": "0717a1f9-92e0-4f20-9360-3214b58719fb",
   "metadata": {},
   "outputs": [],
   "source": [
    "from datasets.carla import *\n",
    "from datasets.nuscenes import *\n",
    "\n",
    "from tools.utils import *\n",
    "from tools.loss import *\n",
    "import models.baseline as b\n",
    "from models.backbones.midas.midas_net import *\n",
    "\n",
    "%matplotlib inline\n",
    "import matplotlib.pyplot as plt\n",
    "from mpl_toolkits.mplot3d import Axes3D"
   ]
  },
  {
   "cell_type": "code",
   "execution_count": null,
   "id": "cd237cb6-555d-4ccb-b36b-331cbe32b295",
   "metadata": {},
   "outputs": [],
   "source": [
    "import importlib\n",
    "importlib.reload(b)"
   ]
  },
  {
   "cell_type": "code",
   "execution_count": null,
   "id": "67f7c7a1-3803-4d95-b640-bc5edd066128",
   "metadata": {},
   "outputs": [],
   "source": [
    "cd = CarlaDataset(\"../../data/carla/train\", False, \"all\")"
   ]
  },
  {
   "cell_type": "code",
   "execution_count": 104,
   "id": "505d8966-7960-48bb-9fb1-1399586844f1",
   "metadata": {},
   "outputs": [],
   "source": [
    "nd = compile_data(\"val\", \"mini\", \"../../data/nuscenes\", \"all\",)"
   ]
  },
  {
   "cell_type": "code",
   "execution_count": 132,
   "id": "9caeb699-b980-416a-a0fd-a718ad9ef1b6",
   "metadata": {
    "scrolled": true
   },
   "outputs": [
    {
     "name": "stdout",
     "output_type": "stream",
     "text": [
      "(694400,)\n",
      "(693760,)\n",
      "(693760,)\n",
      "(693760,)\n",
      "(693760,)\n"
     ]
    },
    {
     "name": "stderr",
     "output_type": "stream",
     "text": [
      "/data/bny220000/projects/sucam/datasets/nuscenes.py:269: UserWarning: To copy construct from a tensor, it is recommended to use sourceTensor.clone().detach() or sourceTensor.clone().detach().requires_grad_(True), rather than torch.tensor(sourceTensor).\n",
      "  torch.Tensor(Quaternion(sensor_sample['rotation']).rotation_matrix),\n"
     ]
    }
   ],
   "source": [
    "images, segs, depths, intrinsics, extrinsics, labels, oods = nd.dataset[0]"
   ]
  },
  {
   "cell_type": "code",
   "execution_count": 130,
   "id": "b0e0f22e-1f5d-4e37-b8e7-416a104eac07",
   "metadata": {},
   "outputs": [
    {
     "data": {
      "text/plain": [
       "(-0.5, 29.5, 13.5, -0.5)"
      ]
     },
     "execution_count": 130,
     "metadata": {},
     "output_type": "execute_result"
    },
    {
     "data": {
      "image/png": "[encoded data removed]",
      "text/plain": [
       "<Figure size 640x480 with 1 Axes>"
      ]
     },
     "metadata": {},
     "output_type": "display_data"
    }
   ],
   "source": [
    "plt.imshow(depths[3], cmap=\"magma\")\n",
    "plt.axis(\"off\")"
   ]
  },
  {
   "cell_type": "code",
   "execution_count": null,
   "id": "091c923a-4d01-412c-88cd-eab0c865b9a7",
   "metadata": {},
   "outputs": [],
   "source": []
  },
  {
   "cell_type": "code",
   "execution_count": null,
   "id": "b8cd1f59-5a18-4ee2-8b45-eeee9c9e185e",
   "metadata": {},
   "outputs": [],
   "source": [
    "images, segs, depths, intrinsics, extrinsics, labels, oods = cd[0]\n",
    "images = images[None].to(4)\n",
    "segs = segs[None].to(4)\n",
    "depths = depths[None].to(4)\n",
    "intrinsics = intrinsics[None].to(4)\n",
    "extrinsics = extrinsics[None].to(4)\n",
    "labels = torch.tensor(labels[None]).to(4)\n",
    "oods = torch.tensor(oods)[None].to(4)"
   ]
  },
  {
   "cell_type": "code",
   "execution_count": null,
   "id": "a0bf90c1-1da0-428d-ac09-367eb4d569ba",
   "metadata": {},
   "outputs": [],
   "source": [
    "cdl = compile_data(\"train\", \"mini\", \"../../data/carla\", \"all\")"
   ]
  },
  {
   "cell_type": "code",
   "execution_count": null,
   "id": "5afb5b7f-24de-45ad-84ab-bc925504a5dc",
   "metadata": {},
   "outputs": [],
   "source": [
    "itd = iter(cdl)\n",
    "next(itd)\n",
    "next(itd)\n",
    "\n",
    "images, segs, depths, intrinsics, extrinsics, labels, oods = next(iter(cdl))"
   ]
  },
  {
   "cell_type": "code",
   "execution_count": null,
   "id": "8fe7da97-2b22-4507-b3f7-bbda22f3a6b3",
   "metadata": {},
   "outputs": [],
   "source": [
    "ba, c = depths.shape[:2]\n",
    "downscaled = depths.reshape(ba, c, 14, 16, 30, 16).mean(dim=3).mean(dim=4)\n",
    "dsm = depths.reshape(ba, c, 14, 16, 30, 16).amax(dim=3).amax(dim=4)\n",
    "\n",
    "downscaled = downscaled.floor().long().clamp(min=0, max=40)\n",
    "binned = torch.nn.functional.one_hot(downscaled, num_classes=41).permute(0, 1, 4, 2, 3)"
   ]
  },
  {
   "cell_type": "code",
   "execution_count": null,
   "id": "4dc7666e-2bc3-47d4-b051-7a481986375e",
   "metadata": {},
   "outputs": [],
   "source": [
    "plt.imshow(binned[0, 0].argmax(dim=0).cpu())"
   ]
  },
  {
   "cell_type": "code",
   "execution_count": null,
   "id": "e8221c81-d3ce-42f1-ac4b-4fe00a0de1b6",
   "metadata": {},
   "outputs": [],
   "source": [
    "plt.imshow(depths[0, 1].cpu().clamp(min=0, max=40))"
   ]
  },
  {
   "cell_type": "code",
   "execution_count": null,
   "id": "b8597131-349e-4f35-b893-0efeac499d97",
   "metadata": {},
   "outputs": [],
   "source": [
    "model = b.Baseline([7], backbone='lss')\n",
    "model.load(torch.load(\"../outputs/depth_sup_test/19.pt\"))"
   ]
  },
  {
   "cell_type": "code",
   "execution_count": null,
   "id": "aa155db6-fa9f-4cfd-b96e-246c0b652d08",
   "metadata": {},
   "outputs": [],
   "source": [
    "model_non = b.Baseline([7], backbone='lss')\n",
    "model_non.load(torch.load(\"../outputs/lss_baseline/19.pt\"))"
   ]
  },
  {
   "cell_type": "code",
   "execution_count": null,
   "id": "e4139ccc-b5d1-4053-980e-eeb50ff37b40",
   "metadata": {},
   "outputs": [],
   "source": [
    "model_l = b.Baseline([7], backbone='lss')\n",
    "model_l.load(torch.load(\"../outputs/sup_dep_LID/19.pt\"))"
   ]
  },
  {
   "cell_type": "code",
   "execution_count": null,
   "id": "e94ff4ba-677b-47ce-8dae-dda8a04257a9",
   "metadata": {},
   "outputs": [],
   "source": [
    "image, sg, pd = model(images, intrinsics, extrinsics)\n",
    "plt.imshow(pd[0].softmax(dim=1).argmax(dim=0).detach().cpu().numpy())"
   ]
  },
  {
   "cell_type": "code",
   "execution_count": null,
   "id": "03a3c264-3c7b-49c5-81e5-1f22fa63f24c",
   "metadata": {},
   "outputs": [],
   "source": [
    "image, sg, pd = model_non(images, intrinsics, extrinsics)\n",
    "plt.imshow(pd[0].softmax(dim=1).argmax(dim=0).detach().cpu().numpy())"
   ]
  },
  {
   "cell_type": "code",
   "execution_count": null,
   "id": "9962b1e6-c1f3-411d-bc93-b2ef7ea87147",
   "metadata": {},
   "outputs": [],
   "source": [
    "image, sg, pd = model_l(images, intrinsics, extrinsics)\n",
    "plt.imshow(pd[0].softmax(dim=1).argmax(dim=0).detach().cpu().numpy())"
   ]
  },
  {
   "cell_type": "code",
   "execution_count": null,
   "id": "627b91d3-c1a5-4145-b60c-3e51f16e979f",
   "metadata": {},
   "outputs": [],
   "source": [
    "plt.imshow(depths[0, 0].log().detach().cpu().numpy())"
   ]
  },
  {
   "cell_type": "code",
   "execution_count": null,
   "id": "4290cf6f-cd4a-4e54-a59b-1d4816113b59",
   "metadata": {},
   "outputs": [],
   "source": [
    "model.backbone.module.inter.shape"
   ]
  },
  {
   "cell_type": "code",
   "execution_count": null,
   "id": "e43a02f5-c136-4f0d-a17a-d3fcf5c79d88",
   "metadata": {},
   "outputs": [],
   "source": [
    "plt.imshow(model.backbone.module.inter[0].sum(dim=0).detach().cpu().numpy())"
   ]
  },
  {
   "cell_type": "code",
   "execution_count": null,
   "id": "ca5810f5-23d3-4d60-ab8d-2731298fed96",
   "metadata": {},
   "outputs": [],
   "source": [
    "plt.imshow(model_non.backbone.module.inter[0].sum(dim=0).detach().cpu().numpy())"
   ]
  },
  {
   "cell_type": "code",
   "execution_count": null,
   "id": "97167683-e042-40b3-b300-e72ddbd82b65",
   "metadata": {},
   "outputs": [],
   "source": [
    "plt.imshow((model_l.backbone.module.inter[0].mean(dim=0)).detach().cpu().numpy() )"
   ]
  },
  {
   "cell_type": "code",
   "execution_count": null,
   "id": "50cf82b2-8928-4b26-a9c1-c01a15034407",
   "metadata": {},
   "outputs": [],
   "source": []
  },
  {
   "cell_type": "code",
   "execution_count": null,
   "id": "6a314d8e-550e-4cbe-bcb1-5cfb3934f5f4",
   "metadata": {},
   "outputs": [],
   "source": []
  }
 ],
 "metadata": {
  "kernelspec": {
   "display_name": "sucam",
   "language": "python",
   "name": "sucam"
  },
  "language_info": {
   "codemirror_mode": {
    "name": "ipython",
    "version": 3
   },
   "file_extension": ".py",
   "mimetype": "text/x-python",
   "name": "python",
   "nbconvert_exporter": "python",
   "pygments_lexer": "ipython3",
   "version": "3.9.7"
  }
 },
 "nbformat": 4,
 "nbformat_minor": 5
}
